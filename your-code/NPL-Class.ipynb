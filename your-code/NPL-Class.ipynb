{
 "cells": [
  {
   "cell_type": "code",
   "execution_count": 2,
   "metadata": {},
   "outputs": [],
   "source": [
    "import pandas as pd\n",
    "import nltk\n",
    "\n",
    "from nltk.tokenize import word_tokenize\n",
    "from nltk.stem import PorterStemmer \n",
    "\n",
    "from nltk.stem.snowball import SnowballStemmer\n",
    "from nltk.stem import WordNetLemmatizer \n",
    "from nltk.corpus import stopwords\n",
    "\n",
    "from sklearn.feature_extraction.text import CountVectorizer\n",
    "from sklearn.feature_extraction.text import TfidfVectorizer"
   ]
  },
  {
   "cell_type": "code",
   "execution_count": 8,
   "metadata": {},
   "outputs": [
    {
     "name": "stderr",
     "output_type": "stream",
     "text": [
      "[nltk_data] Downloading package punkt to\n",
      "[nltk_data]     /Users/ritasousabritopereira/nltk_data...\n",
      "[nltk_data]   Package punkt is already up-to-date!\n"
     ]
    }
   ],
   "source": [
    "nltk.download('punkt')\n",
    "\n",
    "text = \"\"\"\n",
    "Anthony Fauci, the U.S. government’s top infectious-disease expert, told Congress he was seeing a “disturbing surge” in new cases. California reported its biggest daily jump, and Florida’s infection rate climbed above 10%.\n",
    "\n",
    "As many as 31 states have R0 figures above 1, according to the Rt.live website, meaning that each person with the virus infects at least one other. The World Trade Organization said its worst-case scenario \n",
    "for cross-border commerce this year will likely be avoided, depending on whether there’s a second wave of outbreaks.\n",
    "\n",
    "Novak Djokovic, the world’s leading men’s tennis player, tested positive for Covid-19 days after an exhibition tournament in the Balkans featuring him was cut short. England eased more restrictions as deaths continued to fall.\n",
    "\"\"\"\n",
    "\n",
    "tokens = word_tokenize(text)"
   ]
  },
  {
   "cell_type": "code",
   "execution_count": 9,
   "metadata": {},
   "outputs": [
    {
     "name": "stdout",
     "output_type": "stream",
     "text": [
      "['Anthony', 'Fauci', ',', 'the', 'U.S.', 'government', '’', 's', 'top', 'infectious-disease', 'expert', ',', 'told', 'Congress', 'he', 'was', 'seeing', 'a', '“', 'disturbing', 'surge', '”', 'in', 'new', 'cases', '.', 'California', 'reported', 'its', 'biggest', 'daily', 'jump', ',', 'and', 'Florida', '’', 's', 'infection', 'rate', 'climbed', 'above', '10', '%', '.', 'As', 'many', 'as', '31', 'states', 'have', 'R0', 'figures', 'above', '1', ',', 'according', 'to', 'the', 'Rt.live', 'website', ',', 'meaning', 'that', 'each', 'person', 'with', 'the', 'virus', 'infects', 'at', 'least', 'one', 'other', '.', 'The', 'World', 'Trade', 'Organization', 'said', 'its', 'worst-case', 'scenario', 'for', 'cross-border', 'commerce', 'this', 'year', 'will', 'likely', 'be', 'avoided', ',', 'depending', 'on', 'whether', 'there', '’', 's', 'a', 'second', 'wave', 'of', 'outbreaks', '.', 'Novak', 'Djokovic', ',', 'the', 'world', '’', 's', 'leading', 'men', '’', 's', 'tennis', 'player', ',', 'tested', 'positive', 'for', 'Covid-19', 'days', 'after', 'an', 'exhibition', 'tournament', 'in', 'the', 'Balkans', 'featuring', 'him', 'was', 'cut', 'short', '.', 'England', 'eased', 'more', 'restrictions', 'as', 'deaths', 'continued', 'to', 'fall', '.']\n"
     ]
    }
   ],
   "source": [
    "print(tokens)"
   ]
  },
  {
   "cell_type": "code",
   "execution_count": 10,
   "metadata": {},
   "outputs": [],
   "source": [
    "#stemming \n",
    "#Porter Stemmer was the first one and improvments are baed on this one\n",
    "\n",
    "ps = PorterStemmer()"
   ]
  },
  {
   "cell_type": "code",
   "execution_count": 11,
   "metadata": {},
   "outputs": [],
   "source": [
    "stemmed = [ps.stem(word) for word in tokens]"
   ]
  },
  {
   "cell_type": "code",
   "execution_count": 13,
   "metadata": {},
   "outputs": [
    {
     "name": "stdout",
     "output_type": "stream",
     "text": [
      "['anthoni', 'fauci', ',', 'the', 'u.s.', 'govern', '’', 's', 'top', 'infectious-diseas', 'expert', ',', 'told', 'congress', 'he', 'wa', 'see', 'a', '“', 'disturb', 'surg', '”', 'in', 'new', 'case', '.', 'california', 'report', 'it', 'biggest', 'daili', 'jump', ',', 'and', 'florida', '’', 's', 'infect', 'rate', 'climb', 'abov', '10', '%', '.', 'As', 'mani', 'as', '31', 'state', 'have', 'R0', 'figur', 'abov', '1', ',', 'accord', 'to', 'the', 'rt.live', 'websit', ',', 'mean', 'that', 'each', 'person', 'with', 'the', 'viru', 'infect', 'at', 'least', 'one', 'other', '.', 'the', 'world', 'trade', 'organ', 'said', 'it', 'worst-cas', 'scenario', 'for', 'cross-bord', 'commerc', 'thi', 'year', 'will', 'like', 'be', 'avoid', ',', 'depend', 'on', 'whether', 'there', '’', 's', 'a', 'second', 'wave', 'of', 'outbreak', '.', 'novak', 'djokov', ',', 'the', 'world', '’', 's', 'lead', 'men', '’', 's', 'tenni', 'player', ',', 'test', 'posit', 'for', 'covid-19', 'day', 'after', 'an', 'exhibit', 'tournament', 'in', 'the', 'balkan', 'featur', 'him', 'wa', 'cut', 'short', '.', 'england', 'eas', 'more', 'restrict', 'as', 'death', 'continu', 'to', 'fall', '.']\n"
     ]
    }
   ],
   "source": [
    "print(stemmed)"
   ]
  },
  {
   "cell_type": "code",
   "execution_count": 17,
   "metadata": {},
   "outputs": [
    {
     "name": "stderr",
     "output_type": "stream",
     "text": [
      "[nltk_data] Downloading package wordnet to\n",
      "[nltk_data]     /Users/ritasousabritopereira/nltk_data...\n",
      "[nltk_data]   Unzipping corpora/wordnet.zip.\n"
     ]
    }
   ],
   "source": [
    "#alternatively let's do lemmatization\n",
    "\n",
    "from nltk.stem import WordNetLemmatizer \n",
    "nltk.download('wordnet') \n",
    "lemmatizer = WordNetLemmatizer()\n",
    "\n",
    "lemmatized = [lemmatizer.lemmatize(word) for word in tokens]"
   ]
  },
  {
   "cell_type": "code",
   "execution_count": 20,
   "metadata": {},
   "outputs": [
    {
     "name": "stdout",
     "output_type": "stream",
     "text": [
      "['Anthony', 'Fauci', ',', 'the', 'U.S.', 'government', '’', 's', 'top', 'infectious-disease', 'expert', ',', 'told', 'Congress', 'he', 'wa', 'seeing', 'a', '“', 'disturbing', 'surge', '”', 'in', 'new', 'case', '.', 'California', 'reported', 'it', 'biggest', 'daily', 'jump', ',', 'and', 'Florida', '’', 's', 'infection', 'rate', 'climbed', 'above', '10', '%', '.', 'As', 'many', 'a', '31', 'state', 'have', 'R0', 'figure', 'above', '1', ',', 'according', 'to', 'the', 'Rt.live', 'website', ',', 'meaning', 'that', 'each', 'person', 'with', 'the', 'virus', 'infects', 'at', 'least', 'one', 'other', '.', 'The', 'World', 'Trade', 'Organization', 'said', 'it', 'worst-case', 'scenario', 'for', 'cross-border', 'commerce', 'this', 'year', 'will', 'likely', 'be', 'avoided', ',', 'depending', 'on', 'whether', 'there', '’', 's', 'a', 'second', 'wave', 'of', 'outbreak', '.', 'Novak', 'Djokovic', ',', 'the', 'world', '’', 's', 'leading', 'men', '’', 's', 'tennis', 'player', ',', 'tested', 'positive', 'for', 'Covid-19', 'day', 'after', 'an', 'exhibition', 'tournament', 'in', 'the', 'Balkans', 'featuring', 'him', 'wa', 'cut', 'short', '.', 'England', 'eased', 'more', 'restriction', 'a', 'death', 'continued', 'to', 'fall', '.']\n"
     ]
    }
   ],
   "source": [
    "print(lemmatized)"
   ]
  },
  {
   "cell_type": "code",
   "execution_count": 22,
   "metadata": {},
   "outputs": [
    {
     "data": {
      "text/plain": [
       "'univers'"
      ]
     },
     "execution_count": 22,
     "metadata": {},
     "output_type": "execute_result"
    }
   ],
   "source": [
    "ps.stem(\"university\")\n",
    "ps.stem(\"universal\")\n",
    "ps.stem(\"universe\")\n",
    "\n",
    "#3 words which should be different features are the same..."
   ]
  },
  {
   "cell_type": "code",
   "execution_count": null,
   "metadata": {},
   "outputs": [],
   "source": []
  }
 ],
 "metadata": {
  "kernelspec": {
   "display_name": "Python 3",
   "language": "python",
   "name": "python3"
  },
  "language_info": {
   "codemirror_mode": {
    "name": "ipython",
    "version": 3
   },
   "file_extension": ".py",
   "mimetype": "text/x-python",
   "name": "python",
   "nbconvert_exporter": "python",
   "pygments_lexer": "ipython3",
   "version": "3.7.4"
  }
 },
 "nbformat": 4,
 "nbformat_minor": 2
}
